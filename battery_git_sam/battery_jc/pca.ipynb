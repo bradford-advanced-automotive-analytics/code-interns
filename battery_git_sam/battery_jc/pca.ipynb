{
 "cells": [
  {
   "cell_type": "code",
   "execution_count": 1,
   "metadata": {},
   "outputs": [],
   "source": [
    "%matplotlib notebook\n",
    "import matplotlib.pyplot as plt\n",
    "import seaborn as sns; sns.set()"
   ]
  },
  {
   "cell_type": "code",
   "execution_count": null,
   "metadata": {},
   "outputs": [],
   "source": [
    "import pandas as pd\n",
    "\n",
    "filename = \"TO DO\" # csv file name\n",
    "df = pd.read_csv(filename) # make a data frame from file"
   ]
  },
  {
   "cell_type": "code",
   "execution_count": null,
   "metadata": {},
   "outputs": [],
   "source": [
    "# standardize the data frame\n",
    "from sklearn.preprocessing import StandardScaler\n",
    "\n",
    "scaler = StandardScaler() # define the scaler\n",
    "stand_values = scaler.fit_transform(df) # apply standardization on df\n",
    "\n",
    "stand_values[0:5, :] # print first 5 rows "
   ]
  },
  {
   "cell_type": "code",
   "execution_count": null,
   "metadata": {},
   "outputs": [],
   "source": [
    "# run pca algorithm on standardized values\n",
    "from sklearn import decomposition\n",
    "\n",
    "pca = decomposition.PCA(n_components='mle', svd_solver='full') # define automatically the number of components\n",
    "coord = pca.fit_transform(st) # coordinates in new basis"
   ]
  },
  {
   "cell_type": "code",
   "execution_count": null,
   "metadata": {},
   "outputs": [],
   "source": [
    "# plot cumul explained variance\n",
    "import numpy as np\n",
    "\n",
    "n, p = coord.shape # shape of coord matrix\n",
    "\n",
    "plt.plot(np.arange(1, p+1), np.cumsum(pca.explained_variance_ratio_))\n",
    "plt.title(\"Explained variance depending on number of factors\")\n",
    "plt.xlabel(\"Factor number\")\n",
    "plt.ylabel(\"Cumsum explained variance ratio\")\n",
    "\n",
    "plt.show()"
   ]
  }
 ],
 "metadata": {
  "kernelspec": {
   "display_name": "Python 3",
   "language": "python",
   "name": "python3"
  },
  "language_info": {
   "codemirror_mode": {
    "name": "ipython",
    "version": 3
   },
   "file_extension": ".py",
   "mimetype": "text/x-python",
   "name": "python",
   "nbconvert_exporter": "python",
   "pygments_lexer": "ipython3",
   "version": "3.7.3"
  }
 },
 "nbformat": 4,
 "nbformat_minor": 2
}
