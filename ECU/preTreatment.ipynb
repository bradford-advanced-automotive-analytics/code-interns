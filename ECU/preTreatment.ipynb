{
 "cells": [
  {
   "cell_type": "code",
   "execution_count": 3,
   "metadata": {},
   "outputs": [],
   "source": [
    "import numpy as np\n",
    "import pandas as pd\n",
    "import matplotlib.pyplot as plt\n",
    "import math\n",
    "from sklearn.linear_model import LinearRegression"
   ]
  },
  {
   "cell_type": "markdown",
   "metadata": {},
   "source": [
    "# Read file"
   ]
  },
  {
   "cell_type": "code",
   "execution_count": null,
   "metadata": {},
   "outputs": [],
   "source": [
    "import mdfreader \n",
    "\n",
    "fileName = \"C:\\\\Users\\\\bnguitto\\\\Desktop\\\\ECU\\\\data\\\\CAN_UDS_Data 2019-02-23 13-54-58-056605 Partition 0.dat\"\n",
    "\n",
    "def read_data(fileName):\n",
    "    # read data from a mdf file\n",
    "    # and print value for every key\n",
    "    raw_dict = mdfreader.Mdf(fileName)\n",
    "    for key in raw_dict.keys():\n",
    "        print(key)\n",
    "    return raw_dict\n",
    "\n",
    "dict = read_data(fileName)"
   ]
  },
  {
   "cell_type": "code",
   "execution_count": 5,
   "metadata": {},
   "outputs": [],
   "source": [
    "# Convert the dict to a pandas dataframe\n",
    "def toDataframe(dic,time):\n",
    "    df1 = pd.DataFrame()\n",
    "    df2 = pd.DataFrame()\n",
    "    for key in dic.keys():\n",
    "        if (dic[key]['master'] == time):\n",
    "            df1[key] = dic[key]['data']\n",
    "            df2[key] = [dic[key]['description'],dic[key]['unit']]\n",
    "    return df1, df2 \n",
    "\n",
    "df1,df2 = toDataframe(dict,'time_1')"
   ]
  },
  {
   "cell_type": "markdown",
   "metadata": {},
   "source": [
    "# Statistics"
   ]
  },
  {
   "cell_type": "markdown",
   "metadata": {},
   "source": [
    "#### Distribution"
   ]
  },
  {
   "cell_type": "code",
   "execution_count": null,
   "metadata": {},
   "outputs": [],
   "source": [
    "# Column histogram\n",
    "df1.hist('Tra_numGear',bins = 5)"
   ]
  },
  {
   "cell_type": "code",
   "execution_count": null,
   "metadata": {},
   "outputs": [],
   "source": [
    "# Plot values over time\n",
    "plt.plot(df1['time_1'],df1['ActMod_trqClth'])\n",
    "plt.xlabel('time (s)')"
   ]
  },
  {
   "cell_type": "markdown",
   "metadata": {},
   "source": [
    "#### Correlations"
   ]
  },
  {
   "cell_type": "code",
   "execution_count": null,
   "metadata": {
    "scrolled": false
   },
   "outputs": [],
   "source": [
    "# Compute correlation matrix\n",
    "corr = df1.corr()\n",
    "\n",
    "# Find correlation pairs from correlation matrix\n",
    "pairs = corr.abs().unstack().sort_values(ascending=False).drop_duplicates()\n",
    "\n",
    "# Keep values above a high enough threshold\n",
    "pairs = pairs.where(pairs>0.95).dropna()\n",
    "plt.plot(pairs.values)"
   ]
  },
  {
   "cell_type": "code",
   "execution_count": 7,
   "metadata": {},
   "outputs": [
    {
     "data": {
      "text/plain": [
       "Text(0, 0.5, 'Actual percent engine torque')"
      ]
     },
     "execution_count": 7,
     "metadata": {},
     "output_type": "execute_result"
    },
    {
     "data": {
      "image/png": "[encoded data removed]",
      "text/plain": [
       "<Figure size 432x288 with 1 Axes>"
      ]
     },
     "metadata": {
      "needs_background": "light"
     },
     "output_type": "display_data"
    }
   ],
   "source": [
    "# Visualize correlation\n",
    "plt.scatter(df1['ActMod_trqClth'],df1['PthLead_trqInrCurr'])\n",
    "plt.xlabel('actual engine torque - clutch torque')\n",
    "plt.ylabel('Actual percent engine torque')"
   ]
  },
  {
   "cell_type": "markdown",
   "metadata": {},
   "source": [
    "# Channel selection and time sampling"
   ]
  },
  {
   "cell_type": "code",
   "execution_count": 6,
   "metadata": {},
   "outputs": [],
   "source": [
    "def sampleData(dic,frequency):\n",
    "    df = pd.DataFrame()\n",
    "    times = []\n",
    "    maxTime = 0\n",
    "    for key in dic.keys():\n",
    "        if key[0:4] == 'time':\n",
    "            times.append(key)\n",
    "            if dic[key]['data'].max() > maxTime:\n",
    "                maxTime = dic[key]['data'].max()\n",
    "    for time in times:\n",
    "        df1,df2 = toDataframe(dic, time)\n",
    "        for t in np.arange(0, maxTime, 1/frequency):\n",
    "            subset = df1.loc[(df1[time]>=(t-((1/frequency)/2))) & (df1[time]<(t+((1/frequency)/2)))]\n",
    "            subsetMean = subset.mean()\n",
    "            subsetMean[time] = t\n",
    "            for key in subsetMean.keys():\n",
    "                if key not in times[1:]:\n",
    "                    df.loc[t*frequency, key] = subsetMean[key]           \n",
    "    return df"
   ]
  },
  {
   "cell_type": "code",
   "execution_count": null,
   "metadata": {},
   "outputs": [],
   "source": [
    "fileNames0 = ['drivingCycle00\\\\00_drivingCycle00.dat','drivingCycle00\\\\01_drivingCycle00.dat','drivingCycle00\\\\02_drivingCycle00.dat','drivingCycle00\\\\03_drivingCycle00.dat','drivingCycle00\\\\04_drivingCycle00.dat','drivingCycle00\\\\05_drivingCycle00.dat','drivingCycle00\\\\06_drivingCycle00.dat','drivingCycle00\\\\07_drivingCycle00.dat','drivingCycle00\\\\08_drivingCycle00.dat','drivingCycle00\\\\09_drivingCycle00.dat','drivingCycle00\\\\10_drivingCycle00.dat','drivingCycle00\\\\11_drivingCycle00.dat','drivingCycle00\\\\12_drivingCycle00.dat']\n",
    "fileNames1 = ['drivingCycle01\\\\00_drivingCycle01.dat','drivingCycle01\\\\01_drivingCycle01.dat','drivingCycle01\\\\02_drivingCycle01.dat','drivingCycle01\\\\03_drivingCycle01.dat','drivingCycle01\\\\04_drivingCycle01.dat','drivingCycle01\\\\05_drivingCycle01.dat','drivingCycle01\\\\06_drivingCycle01.dat','drivingCycle01\\\\07_drivingCycle01.dat','drivingCycle01\\\\08_drivingCycle01.dat','drivingCycle01\\\\09_drivingCycle01.dat','drivingCycle01\\\\10_drivingCycle01.dat']\n",
    "fileNames2 = ['drivingCycle02\\\\00_drivingCycle02.dat','drivingCycle02\\\\01_drivingCycle02.dat','drivingCycle02\\\\02_drivingCycle02.dat','drivingCycle02\\\\03_drivingCycle02.dat','drivingCycle02\\\\04_drivingCycle02.dat','drivingCycle02\\\\05_drivingCycle02.dat','drivingCycle02\\\\06_drivingCycle02.dat','drivingCycle02\\\\07_drivingCycle02.dat','drivingCycle02\\\\08_drivingCycle02.dat','drivingCycle02\\\\09_drivingCycle02.dat','drivingCycle02\\\\10_drivingCycle02.dat','drivingCycle02\\\\11_drivingCycle02.dat','drivingCycle02\\\\12_drivingCycle02.dat','drivingCycle02\\\\13_drivingCycle02.dat','drivingCycle02\\\\14_drivingCycle02.dat','drivingCycle02\\\\15_drivingCycle02.dat','drivingCycle02\\\\16_drivingCycle02.dat','drivingCycle02\\\\17_drivingCycle02.dat','drivingCycle02\\\\18_drivingCycle02.dat']\n",
    "fileNames3 = ['drivingCycle03\\\\00_drivingCycle03.dat','drivingCycle03\\\\01_drivingCycle03.dat','drivingCycle03\\\\02_drivingCycle03.dat','drivingCycle03\\\\03_drivingCycle03.dat','drivingCycle03\\\\04_drivingCycle03.dat','drivingCycle03\\\\05_drivingCycle03.dat','drivingCycle03\\\\06_drivingCycle03.dat','drivingCycle03\\\\07_drivingCycle03.dat','drivingCycle03\\\\08_drivingCycle03.dat','drivingCycle03\\\\09_drivingCycle03.dat','drivingCycle03\\\\10_drivingCycle03.dat','drivingCycle03\\\\11_drivingCycle03.dat','drivingCycle03\\\\12_drivingCycle03.dat','drivingCycle03\\\\13_drivingCycle03.dat','drivingCycle03\\\\14_drivingCycle03.dat','drivingCycle03\\\\15_drivingCycle03.dat','drivingCycle03\\\\16_drivingCycle03.dat','drivingCycle03\\\\17_drivingCycle03.dat','drivingCycle03\\\\18_drivingCycle03.dat','drivingCycle03\\\\19_drivingCycle03.dat','drivingCycle03\\\\20_drivingCycle03.dat','drivingCycle03\\\\21_drivingCycle03.dat','drivingCycle03\\\\22_drivingCycle03.dat','drivingCycle03\\\\23_drivingCycle03.dat','drivingCycle03\\\\24_drivingCycle03.dat','drivingCycle03\\\\25_drivingCycle03.dat','drivingCycle03\\\\26_drivingCycle03.dat','drivingCycle03\\\\27_drivingCycle03.dat','drivingCycle03\\\\28_drivingCycle03.dat','drivingCycle03\\\\29_drivingCycle03.dat','drivingCycle03\\\\30_drivingCycle03.dat','drivingCycle03\\\\31_drivingCycle03.dat','drivingCycle03\\\\32_drivingCycle03.dat','drivingCycle03\\\\33_drivingCycle03.dat','drivingCycle03\\\\34_drivingCycle03.dat','drivingCycle03\\\\35_drivingCycle03.dat','drivingCycle03\\\\36_drivingCycle03.dat','drivingCycle03\\\\37_drivingCycle03.dat']\n",
    "fileNames4 = ['drivingCycle04\\\\00_drivingCycle04.dat','drivingCycle04\\\\01_drivingCycle04.dat','drivingCycle04\\\\02_drivingCycle04.dat','drivingCycle04\\\\03_drivingCycle04.dat','drivingCycle04\\\\04_drivingCycle04.dat','drivingCycle04\\\\05_drivingCycle04.dat','drivingCycle04\\\\06_drivingCycle04.dat','drivingCycle04\\\\07_drivingCycle04.dat','drivingCycle04\\\\08_drivingCycle04.dat','drivingCycle04\\\\09_drivingCycle04.dat','drivingCycle04\\\\10_drivingCycle04.dat','drivingCycle04\\\\11_drivingCycle04.dat','drivingCycle04\\\\12_drivingCycle04.dat']\n",
    "\n",
    "fileNames = [fileNames0, fileNames4]\n",
    "\n",
    "for i in range(1,2): \n",
    "    for file in fileNames[i]:\n",
    "        dic = mdfreader.Mdf(file)\n",
    "        target = 'ECU10HZ\\\\csvCycle' + str(i) + '\\\\'\n",
    "        df = sampleData(dic,10)\n",
    "        filetab = file.split('\\\\')\n",
    "        df.to_csv(target + filetab[len(filetab)-1] + '.csv')\n",
    "        print (file + ' finished')"
   ]
  },
  {
   "cell_type": "code",
   "execution_count": null,
   "metadata": {},
   "outputs": [],
   "source": []
  }
 ],
 "metadata": {
  "kernelspec": {
   "display_name": "Python 3",
   "language": "python",
   "name": "python3"
  },
  "language_info": {
   "codemirror_mode": {
    "name": "ipython",
    "version": 3
   },
   "file_extension": ".py",
   "mimetype": "text/x-python",
   "name": "python",
   "nbconvert_exporter": "python",
   "pygments_lexer": "ipython3",
   "version": "3.7.3"
  }
 },
 "nbformat": 4,
 "nbformat_minor": 2
}
